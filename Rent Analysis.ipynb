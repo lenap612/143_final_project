{
 "cells": [
  {
   "cell_type": "code",
   "execution_count": 2,
   "metadata": {},
   "outputs": [],
   "source": [
    "import geopandas as gpd\n",
    "import pandas as pd\n",
    "import matplotlib.pyplot as plt\n",
    "from shapely.geometry import Point\n"
   ]
  },
  {
   "cell_type": "code",
   "execution_count": 3,
   "metadata": {},
   "outputs": [],
   "source": [
    "rent_data = pd.read_csv(\"data/Rent_Price__LA_.csv\")\n",
    "crime_data = pd.read_csv(\"data/Crime_Data_from_2010_to_2019.csv\")\n",
    "LA_Neighborhood_map = gpd.read_file(\"data/Los Angeles Neighborhood Map.geojson\")\n",
    "rent_data_valid = rent_data[[\"Year\", \"Amount\", \"Neighborhood\", \"Location\"]]\n",
    "crime_data_valid = crime_data[[\"DATE OCC\", \"LAT\", \"LON\"]]"
   ]
  },
  {
   "cell_type": "code",
   "execution_count": null,
   "metadata": {},
   "outputs": [],
   "source": [
    "crime_data_valid[\"Year\"] = crime_data_valid[\"DATE OCC\"].apply(lambda x: int(x[6:10]))\n",
    "crime_data_valid = crime_data_valid[crime_data_valid[\"Year\"] <= 2016]\n",
    "rent_data_valid[\"point\"] = rent_data_valid.Location.apply(lambda x: Point(map(float, x.strip(\"()\").split(\",\"))))\n",
    "crime_data_valid[\"point\"] = crime_data_valid.loc[:, [\"LON\", \"LAT\"]].values.tolist()\n",
    "crime_data_geo = gpd.GeoSeries(crime_data_valid[\"point\"].apply(Point))\n",
    "LA_Neighborhood_map = LA_Neighborhood_map[LA_Neighborhood_map['geometry'].is_valid]\n",
    "del crime_data, rent_data"
   ]
  },
  {
   "cell_type": "code",
   "execution_count": null,
   "metadata": {},
   "outputs": [],
   "source": [
    "crime_data_neiborhood = []\n",
    "for geo in crime_data_geo:\n",
    "    name = (LA_Neighborhood_map[\"name\"])[LA_Neighborhood_map[\"geometry\"].contains(geo)].values\n",
    "    crime_data_neiborhood.append(name[0] if name.size else None)\n"
   ]
  },
  {
   "cell_type": "code",
   "execution_count": null,
   "metadata": {},
   "outputs": [],
   "source": [
    "crime_data_valid[\"Neighborhood\"] = pd.Series(crime_data_neiborhood)\n",
    "crime_data_valid.to_csv(\"data/processed_crime.csv\")\n",
    "rent_data_valid.to_csv(\"data/processed_rent.csv\")"
   ]
  }
 ],
 "metadata": {
  "kernelspec": {
   "display_name": "Python 3",
   "language": "python",
   "name": "python3"
  },
  "language_info": {
   "codemirror_mode": {
    "name": "ipython",
    "version": 3
   },
   "file_extension": ".py",
   "mimetype": "text/x-python",
   "name": "python",
   "nbconvert_exporter": "python",
   "pygments_lexer": "ipython3",
   "version": "3.6.13"
  }
 },
 "nbformat": 4,
 "nbformat_minor": 4
}
